{
 "cells": [
  {
   "cell_type": "markdown",
   "id": "25d7736c-ba17-4aff-b6bb-66eba20fbf4e",
   "metadata": {},
   "source": [
    "# Lab | Functions"
   ]
  },
  {
   "cell_type": "markdown",
   "id": "0c581062-8967-4d93-b06e-62833222f930",
   "metadata": {
    "tags": []
   },
   "source": [
    "## Exercise: Managing Customer Orders with Functions\n",
    "\n",
    "In the previous exercise, you improved the code for managing customer orders by using loops and flow control. Now, let's take it a step further and refactor the code by introducing functions.\n",
    "\n",
    "Follow the steps below to complete the exercise:\n",
    "\n",
    "1. Define a function named `initialize_inventory` that takes `products` as a parameter. Inside the function, implement the code for initializing the inventory dictionary using a loop and user input.\n",
    "\n",
    "2. Define a function named `get_customer_orders` that takes no parameters. Inside the function, implement the code for prompting the user to enter the product names using a loop. The function should return the `customer_orders` set.\n",
    "\n",
    "3. Define a function named `update_inventory` that takes `customer_orders` and `inventory` as parameters. Inside the function, implement the code for updating the inventory dictionary based on the customer orders.\n",
    "\n",
    "4. Define a function named `calculate_order_statistics` that takes `customer_orders` and `products` as parameters. Inside the function, implement the code for calculating the order statistics (total products ordered, and percentage of unique products ordered). The function should return these values.\n",
    "\n",
    "5. Define a function named `print_order_statistics` that takes `order_statistics` as a parameter. Inside the function, implement the code for printing the order statistics.\n",
    "\n",
    "6. Define a function named `print_updated_inventory` that takes `inventory` as a parameter. Inside the function, implement the code for printing the updated inventory.\n",
    "\n",
    "7. Call the functions in the appropriate sequence to execute the program and manage customer orders.\n",
    "\n",
    "Hints for functions:\n",
    "\n",
    "- Consider the input parameters required for each function and their return values.\n",
    "- Utilize function parameters and return values to transfer data between functions.\n",
    "- Test your functions individually to ensure they work correctly.\n",
    "\n",
    "\n"
   ]
  },
  {
   "cell_type": "code",
   "execution_count": 1,
   "id": "cf6b9663-dcd2-4a2d-a7ee-a25ed2d9c570",
   "metadata": {},
   "outputs": [],
   "source": [
    "#1. Define a function named initialize_inventory that takes products as a paramete.\n",
    "#Inside the function, implement the code for initializing the inventory dictionary using a loop and user input\n",
    "def initialize_inventory(products): \n",
    "    inventory = dict()\n",
    "    \n",
    "    for product in products:\n",
    "        quantity = int(input(f\"How many {product}s are in stock? Please enter an integer: \"))\n",
    "        inventory[product] = quantity\n",
    "    \n",
    "    return inventory"
   ]
  },
  {
   "cell_type": "code",
   "execution_count": 2,
   "id": "32416074-afdd-4410-a944-e39e062a3732",
   "metadata": {},
   "outputs": [],
   "source": [
    "#2 Define a function named get_customer_orders that takes no parameters.\n",
    "#Inside the function, implement the code for prompting the user to enter the product names using a loop.\n",
    "#The function should return the customer_orders set\n",
    "def get_customer_orders():\n",
    "    \n",
    "    customer_orders = set()\n",
    "    \n",
    "    while True:\n",
    "        order = input(f\"What product do you want to order? (or type 'none' to finish the order): \")\n",
    "        if order == 'none':\n",
    "            break\n",
    "        \n",
    "        else:\n",
    "            print(f\"{order} added to your list\")\n",
    "        customer_orders.add(order)\n",
    "    return customer_orders"
   ]
  },
  {
   "cell_type": "code",
   "execution_count": 3,
   "id": "68f77622-900c-4cd3-8c26-b549ac6fcba2",
   "metadata": {},
   "outputs": [],
   "source": [
    "#3. Define a function named update_inventory that takes customer_orders and inventory as parameters.\n",
    "#Inside the function, implement the code for updating the inventory dictionary based on the customer orders.\n",
    "def update_inventory (customer_orders, inventory):\n",
    "    \n",
    "    for order in customer_orders:\n",
    "            inventory[order]-=1\n",
    "    \n",
    "    return inventory\n"
   ]
  },
  {
   "cell_type": "code",
   "execution_count": 4,
   "id": "2689ea35-0052-47c7-bb63-1d1f4680f652",
   "metadata": {},
   "outputs": [],
   "source": [
    "#4. Define a function named calculate_order_statistics that takes customer_orders and products as parameters. \n",
    "#Inside the function, implement the code for calculating the order statistics (total products ordered, and percentage of unique products ordered).\n",
    "#The function should return these values.\n",
    "def calculate_order_statistics(customer_orders, products):\n",
    "    total_products_ordered = len(customer_orders)\n",
    "    unique_percentage = (total_products_ordered / len(products))*100\n",
    "    return total_products_ordered, unique_percentage"
   ]
  },
  {
   "cell_type": "code",
   "execution_count": 7,
   "id": "e7a3b448-fab4-4f7d-8ad6-96a649426edb",
   "metadata": {},
   "outputs": [],
   "source": [
    "#5. Define a function named print_order_statistics that takes order_statistics as a parameter.\n",
    "#Inside the function, implement the code for printing the order statistics.\n",
    "def print_order_statistics(order_statistics):\n",
    "    print(f\"Total number of products: {order_statistics[0]}\")\n",
    "    print(f\"Percentage of unique products ordered: {order_statistics[1]}\")"
   ]
  },
  {
   "cell_type": "code",
   "execution_count": 8,
   "id": "4e8d8d14-ae22-4d7b-a62c-70fcf0c74a25",
   "metadata": {},
   "outputs": [],
   "source": [
    "#6. Define a function named print_updated_inventory that takes inventory as a parameter.\n",
    "#Inside the function, implement the code for printing the updated inventory.\n",
    "def print_updated_inventory(inventory):\n",
    "    print(\"Updated inventory: \")\n",
    "    for product, quantity in inventory.items():\n",
    "        print(f\"{product}: {quantity} units remaining\")"
   ]
  },
  {
   "cell_type": "markdown",
   "id": "b9f248cc-fd36-47d6-a1cb-0ef506f62c04",
   "metadata": {},
   "source": [
    "inventory = {}\n",
    "def print_updated_inventory(inventory):\n",
    "    print(\"Updated inventory: \")\n",
    "    for x in customer_orders:\n",
    "    if x in inventory:\n",
    "        inventory[x] -= 1"
   ]
  },
  {
   "cell_type": "code",
   "execution_count": 9,
   "id": "430e83d5-5abb-409a-97ed-4e53f5b2770f",
   "metadata": {},
   "outputs": [],
   "source": [
    "#7. Call the functions in the appropriate sequence to execute the program and manage customer orders.\n",
    "def managing_customers_orders():\n",
    "    #First define list of products\n",
    "    products = ['tshirt', 'book', 'hat', 'mug', 'keychain']\n",
    "    print(\"\")#white line\n",
    "    \n",
    "    print(\"Start the inventory:\")\n",
    "    print(\"\")#white line\n",
    "    \n",
    "    inventory = initialize_inventory(products)\n",
    "    print(\"\")#white line    \n",
    "\n",
    "    #Then get customer orders\n",
    "    print(\"Enter customer orders:\")\n",
    "    customer_orders = get_customer_orders()\n",
    "    print(\"\")#white line    \n",
    "    \n",
    "    inventory = update_inventory(customer_orders, inventory)\n",
    "\n",
    "    print(\"\")#white line\n",
    "\n",
    "    #Then calculate order statistics\n",
    "    order_statistics = calculate_order_statistics(customer_orders, products)\n",
    "    \n",
    "    print(\"\")#white line\n",
    "    #Then print order statistics\n",
    "    print_order_statistics(order_statistics)\n",
    "\n",
    "    print(\"\")#white line\n",
    "    #Then print the updated inventory\n",
    "    print_updated_inventory(inventory)"
   ]
  },
  {
   "cell_type": "code",
   "execution_count": 10,
   "id": "a39e631e-dedd-4826-b29c-bd976f158934",
   "metadata": {},
   "outputs": [
    {
     "name": "stdout",
     "output_type": "stream",
     "text": [
      "\n",
      "Start the inventory:\n",
      "\n"
     ]
    },
    {
     "name": "stdin",
     "output_type": "stream",
     "text": [
      "How many tshirts are in stock? Please enter an integer:  8\n",
      "How many books are in stock? Please enter an integer:  8\n",
      "How many hats are in stock? Please enter an integer:  8\n",
      "How many mugs are in stock? Please enter an integer:  8\n",
      "How many keychains are in stock? Please enter an integer:  8\n"
     ]
    },
    {
     "name": "stdout",
     "output_type": "stream",
     "text": [
      "\n",
      "Enter customer orders:\n"
     ]
    },
    {
     "name": "stdin",
     "output_type": "stream",
     "text": [
      "What product do you want to order? (or type 'none' to finish the order):  hat\n"
     ]
    },
    {
     "name": "stdout",
     "output_type": "stream",
     "text": [
      "hat added to your list\n"
     ]
    },
    {
     "name": "stdin",
     "output_type": "stream",
     "text": [
      "What product do you want to order? (or type 'none' to finish the order):  book\n"
     ]
    },
    {
     "name": "stdout",
     "output_type": "stream",
     "text": [
      "book added to your list\n"
     ]
    },
    {
     "name": "stdin",
     "output_type": "stream",
     "text": [
      "What product do you want to order? (or type 'none' to finish the order):  tshirt\n"
     ]
    },
    {
     "name": "stdout",
     "output_type": "stream",
     "text": [
      "tshirt added to your list\n"
     ]
    },
    {
     "name": "stdin",
     "output_type": "stream",
     "text": [
      "What product do you want to order? (or type 'none' to finish the order):  none\n"
     ]
    },
    {
     "name": "stdout",
     "output_type": "stream",
     "text": [
      "\n",
      "\n",
      "\n",
      "Total number of products: 3\n",
      "Percentage of unique products ordered: 60.0\n",
      "\n",
      "Updated inventory: \n",
      "tshirt: 7 units remaining\n",
      "book: 7 units remaining\n",
      "hat: 7 units remaining\n",
      "mug: 8 units remaining\n",
      "keychain: 8 units remaining\n"
     ]
    }
   ],
   "source": [
    "managing_customers_orders()"
   ]
  },
  {
   "cell_type": "code",
   "execution_count": null,
   "id": "a256a8b5-a5ab-46e0-9a77-1fa8f15aa613",
   "metadata": {},
   "outputs": [],
   "source": []
  }
 ],
 "metadata": {
  "kernelspec": {
   "display_name": "Python 3 (ipykernel)",
   "language": "python",
   "name": "python3"
  },
  "language_info": {
   "codemirror_mode": {
    "name": "ipython",
    "version": 3
   },
   "file_extension": ".py",
   "mimetype": "text/x-python",
   "name": "python",
   "nbconvert_exporter": "python",
   "pygments_lexer": "ipython3",
   "version": "3.11.7"
  }
 },
 "nbformat": 4,
 "nbformat_minor": 5
}
